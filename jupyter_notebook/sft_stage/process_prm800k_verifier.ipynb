{
 "cells": [
  {
   "cell_type": "markdown",
   "metadata": {},
   "source": [
    "# 从phase1的数据中获取错误正确步骤对"
   ]
  },
  {
   "cell_type": "code",
   "execution_count": 1,
   "metadata": {},
   "outputs": [],
   "source": [
    "import json\n",
    "\n",
    "def process_jsonl(filename):\n",
    "    results = {}\n",
    "    current_problem = None\n",
    "    current_steps = []\n",
    "    \n",
    "    with open(filename, 'r') as f:\n",
    "        for line in f:\n",
    "            data = json.loads(line)\n",
    "            \n",
    "            # 获取问题\n",
    "            if 'question' in data and 'problem' in data['question']:\n",
    "                current_problem = data['question']['problem']\n",
    "                current_steps = []\n",
    "            \n",
    "            # 处理每个步骤\n",
    "            if 'label' in data and 'steps' in data['label']:\n",
    "                for step in data['label']['steps']:\n",
    "                    wrong_steps = []\n",
    "                    correct_step = None\n",
    "                    \n",
    "                    # 判断是否有错误步骤\n",
    "                    if step.get('chosen_completion') is None and step.get('human_completion') is not None:\n",
    "                        # 获取错误步骤\n",
    "                        for completion in step.get('completions', []):\n",
    "                            if completion.get('rating') == -1:\n",
    "                                wrong_steps.append(completion['text'])\n",
    "                    \n",
    "                    # 获取正确步骤\n",
    "                    if step.get('chosen_completion') is not None:\n",
    "                        idx = step['chosen_completion']\n",
    "                        if step['completions'] and len(step['completions']) > idx:\n",
    "                            correct_step = step['completions'][idx]['text']\n",
    "                    elif step.get('human_completion') is not None:\n",
    "                        correct_step = step['human_completion']['text']\n",
    "                        \n",
    "                    if correct_step is not None:\n",
    "                        # 如果没有错误步骤用None代替\n",
    "                        wrong_steps = wrong_steps if wrong_steps else None\n",
    "                        current_steps.append((wrong_steps, correct_step))\n",
    "                \n",
    "                # 只记录有错误步骤的问题\n",
    "                if current_problem and current_steps and any(step[0] for step in current_steps):\n",
    "                    results[current_problem] = current_steps\n",
    "    \n",
    "    return results\n",
    "\n",
    "def output_results(results, save_path):\n",
    "    output = []\n",
    "    for problem, steps in results.items():\n",
    "        formatted = {\n",
    "            \"problem\": problem,\n",
    "            \"steps\": steps\n",
    "        }\n",
    "        output.append(json.dumps(formatted, ensure_ascii=False))\n",
    "        \n",
    "    with open(save_path, 'w') as f:\n",
    "        f.write('\\n'.join(output))\n",
    "read_dir = '/zhuangkai/openo1/dataset/prm800k/data'\n",
    "save_dir = '/zhuangkai/openo1/outputs/verifier'\n",
    "# 使用示例\n",
    "for stage in ['train', 'test']:\n",
    "    save_path = f'{save_dir}/phase1_{stage}.jsonl'\n",
    "    read_path = f'{read_dir}/phase1_{stage}.jsonl'\n",
    "    results = process_jsonl(read_path)\n",
    "    output_results(results, save_path)"
   ]
  },
  {
   "cell_type": "code",
   "execution_count": 1,
   "metadata": {},
   "outputs": [],
   "source": [
    "import random\n",
    "\n",
    "def split_file(input_path, test_path, validation_path):\n",
    "    with open(input_path, 'r') as f:\n",
    "        lines = f.readlines()\n",
    "    \n",
    "    random.shuffle(lines)\n",
    "    split_index = len(lines) // 2\n",
    "    \n",
    "    test_lines = lines[:split_index]\n",
    "    validation_lines = lines[split_index:]\n",
    "    \n",
    "    with open(test_path, 'w') as f:\n",
    "        f.writelines(test_lines)\n",
    "    \n",
    "    with open(validation_path, 'w') as f:\n",
    "        f.writelines(validation_lines)\n",
    "\n",
    "save_dir = '/zhuangkai/openo1/outputs/verifier'\n",
    "test_file_path = f'{save_dir}/phase1_test.jsonl'\n",
    "test_output_path = f'{save_dir}/phase1_test_split.jsonl'\n",
    "validation_output_path = f'{save_dir}/phase1_validation.jsonl'\n",
    "\n",
    "split_file(test_file_path, test_output_path, validation_output_path)"
   ]
  },
  {
   "cell_type": "markdown",
   "metadata": {},
   "source": [
    "# 做进一步处理，steps只保留到最后一个wrong_step和correct_step都有的"
   ]
  },
  {
   "cell_type": "markdown",
   "metadata": {},
   "source": []
  }
 ],
 "metadata": {
  "kernelspec": {
   "display_name": "openo1",
   "language": "python",
   "name": "python3"
  },
  "language_info": {
   "codemirror_mode": {
    "name": "ipython",
    "version": 3
   },
   "file_extension": ".py",
   "mimetype": "text/x-python",
   "name": "python",
   "nbconvert_exporter": "python",
   "pygments_lexer": "ipython3",
   "version": "3.9.20"
  }
 },
 "nbformat": 4,
 "nbformat_minor": 2
}
