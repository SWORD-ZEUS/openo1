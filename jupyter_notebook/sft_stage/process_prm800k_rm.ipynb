{
 "cells": [
  {
   "cell_type": "markdown",
   "metadata": {},
   "source": [
    "# 首先对gt_solution每个step打上标签"
   ]
  },
  {
   "cell_type": "code",
   "execution_count": 4,
   "metadata": {},
   "outputs": [
    {
     "name": "stderr",
     "output_type": "stream",
     "text": [
      "10819it [00:00, 52436.25it/s]\n",
      "100%|██████████| 10791/10791 [00:00<00:00, 135538.78it/s]\n",
      "458it [00:00, 120400.58it/s]\n",
      "100%|██████████| 455/455 [00:00<00:00, 148560.51it/s]\n"
     ]
    }
   ],
   "source": [
    "#每个step的标签为1.0，文件路径：outputs/sft/phase2_{stage}_gt_solution_to_step_list_capital.jsonl\n",
    "#每一行的格式为：\n",
    "# {\n",
    "#     \"problem\": \"问题\",\n",
    "#     \"steps\": [\"step1\", \"step2\", \"step3\"],\n",
    "# }\n",
    "#处理后格式为：\n",
    "# {\n",
    "#     \"problem\": \"问题\",\n",
    "#     \"steps\": [\n",
    "#         (\"step1\", 1.0),\n",
    "#         (\"step2\", 1.0),\n",
    "#         (\"step3\", 1.0)\n",
    "#     ]\n",
    "# }\n",
    "import json\n",
    "from tqdm import tqdm\n",
    "\n",
    "# 文件路径和保存路径\n",
    "path = '/zhuangkai/openo1/outputs/sft/phase2_{stage}_gt_solution_to_step_list_capital.jsonl'\n",
    "save_path = '/zhuangkai/openo1/outputs/rm/phase2_{stage}_gt_solution.jsonl'\n",
    "\n",
    "for stage in ['train', 'test']: \n",
    "    result = []\n",
    "    with open(path.format(stage=stage), 'r', encoding='utf-8') as f:\n",
    "        for line in tqdm(f):\n",
    "            data = json.loads(line)\n",
    "            problem = data['problem']\n",
    "            gt_steps = data[\"steps\"]\n",
    "            # 如果出现step小于10，则不将该problem写入\n",
    "            if any(len(step) < 10 for step in gt_steps):\n",
    "                continue\n",
    "            \n",
    "            # 将每个step与标签1.0配对\n",
    "            labeled_steps = [(step, 1.0) for step in gt_steps]\n",
    "            result.append((problem, labeled_steps))\n",
    "\n",
    "    with open(save_path.format(stage=stage), 'w', encoding='utf-8') as f:\n",
    "        for data in tqdm(result):\n",
    "            problem, steps = data\n",
    "            f.write(json.dumps({\"problem\": problem, \"steps\": steps}) + \"\\n\")\n",
    "            \n",
    "            \n"
   ]
  },
  {
   "cell_type": "markdown",
   "metadata": {},
   "source": [
    "# 再对pre_generated_solution每个step打上标签"
   ]
  },
  {
   "cell_type": "code",
   "execution_count": 1,
   "metadata": {},
   "outputs": [
    {
     "name": "stderr",
     "output_type": "stream",
     "text": [
      "0it [00:00, ?it/s]"
     ]
    },
    {
     "name": "stderr",
     "output_type": "stream",
     "text": [
      "97782it [00:03, 25756.12it/s]\n",
      "100%|██████████| 97782/97782 [00:00<00:00, 109436.68it/s]\n",
      "2762it [00:00, 35404.60it/s]\n",
      "100%|██████████| 2762/2762 [00:00<00:00, 53316.52it/s]\n"
     ]
    }
   ],
   "source": [
    "# 文件路径为dataset/prm800k/data/phase2_{stage}.jsonl\n",
    "import json\n",
    "from tqdm import tqdm\n",
    "\n",
    "\n",
    "def process_data(input_file, output_file):\n",
    "    result = []\n",
    "    with open(input_file, 'r', encoding='utf-8') as f:\n",
    "        for line in tqdm(f):    \n",
    "            data = json.loads(line)\n",
    "    \n",
    "            processed_data = {\n",
    "                \"problem\": data[\"question\"][\"problem\"],\n",
    "                \"steps\": []\n",
    "            }\n",
    "            \n",
    "            for step in data[\"label\"][\"steps\"]:\n",
    "                if step[\"chosen_completion\"] is not None:\n",
    "                    # 如果有选中的完成项，使用它\n",
    "                    chosen_completion = step[\"completions\"][step[\"chosen_completion\"]]\n",
    "                    if chosen_completion[\"rating\"] is not None:\n",
    "                        processed_data[\"steps\"].append((chosen_completion[\"text\"], chosen_completion[\"rating\"]))\n",
    "                elif step[\"human_completion\"] is not None:\n",
    "                    # 如果有人工完成项，使用它（假设人工完成项的评分为1）\n",
    "                    processed_data[\"steps\"].append((step[\"human_completion\"], 1))\n",
    "                elif step[\"completions\"]:\n",
    "                    # 如果没有选中的完成项和人工完成项，但有其他完成项，选择第一个\n",
    "                    processed_data[\"steps\"].append((step[\"completions\"][0][\"text\"], step[\"completions\"][0][\"rating\"]))\n",
    "            \n",
    "            result.append(processed_data)\n",
    "\n",
    "    with open(output_file, 'w', encoding='utf-8') as f:\n",
    "        for data in tqdm(result):\n",
    "            f.write(json.dumps(data) + \"\\n\")\n",
    "\n",
    "# 使用示例\n",
    "input_file = \"/zhuangkai/openo1/dataset/prm800k/data/phase2_{stage}.jsonl\"\n",
    "output_file = \"/zhuangkai/openo1/outputs/rm/phase2_{stage}_pre_generated_solution.jsonl\"\n",
    "for stage in ['train', 'test']: \n",
    "    process_data(input_file.format(stage=stage), output_file.format(stage=stage))\n"
   ]
  },
  {
   "cell_type": "markdown",
   "metadata": {},
   "source": [
    "# 将两个文件合并"
   ]
  },
  {
   "cell_type": "code",
   "execution_count": 2,
   "metadata": {},
   "outputs": [
    {
     "name": "stderr",
     "output_type": "stream",
     "text": [
      "100%|██████████| 108573/108573 [00:00<00:00, 115763.54it/s]\n",
      "100%|██████████| 3217/3217 [00:00<00:00, 81260.09it/s]\n"
     ]
    }
   ],
   "source": [
    "#将每个stage的两个文件合并\n",
    "#合并规则是直接合并，不是按相同problem合并，即f1+f2\n",
    "import json\n",
    "from tqdm import tqdm\n",
    "\n",
    "def merge_files(file1, file2, output_file):\n",
    "    result = []\n",
    "    with open(file1, 'r', encoding='utf-8') as f1, open(file2, 'r', encoding='utf-8') as f2:\n",
    "        for line1 in f1:\n",
    "            result.append(json.loads(line1))\n",
    "        for line2 in f2:\n",
    "            result.append(json.loads(line2))\n",
    "\n",
    "    with open(output_file, 'w', encoding='utf-8') as f:\n",
    "        for data in tqdm(result):\n",
    "            f.write(json.dumps(data) + \"\\n\")\n",
    "\n",
    "for stage in ['train', 'test']:\n",
    "    merge_files(\n",
    "        \"/zhuangkai/openo1/outputs/rm/phase2_{stage}_gt_solution.jsonl\".format(stage=stage),\n",
    "        \"/zhuangkai/openo1/outputs/rm/phase2_{stage}_pre_generated_solution.jsonl\".format(stage=stage),\n",
    "        \"/zhuangkai/openo1/outputs/rm/phase2_{stage}_gt_pre_generated_solution.jsonl\".format(stage=stage)\n",
    "    )\n",
    "\n"
   ]
  },
  {
   "cell_type": "markdown",
   "metadata": {},
   "source": [
    "# 将test划分为test与valid"
   ]
  },
  {
   "cell_type": "code",
   "execution_count": 3,
   "metadata": {},
   "outputs": [
    {
     "name": "stderr",
     "output_type": "stream",
     "text": [
      "3217it [00:00, 60999.44it/s]\n"
     ]
    }
   ],
   "source": [
    "#将处理过的test划分为test与validation\n",
    "#按照1：1的比例划分\n",
    "import json\n",
    "from tqdm import tqdm\n",
    "import random\n",
    "path = \"/zhuangkai/openo1/outputs/rm/phase2_test_gt_pre_generated_solution.jsonl\"\n",
    "results = []\n",
    "with open(path, 'r', encoding='utf-8') as f:\n",
    "    for line in tqdm(f):\n",
    "        line = json.loads(line)\n",
    "        problem = line[\"problem\"]\n",
    "        results.append((problem, line))\n",
    "\n",
    "# 随机打乱results\n",
    "random.shuffle(results)\n",
    "\n",
    "# 将results分为两部分，按照1：1的比例划分\n",
    "test_results = results[:len(results)//2]\n",
    "validation_results = results[len(results)//2:]  \n",
    "\n",
    "# 将test_results和validation_results写入文件\n",
    "with open(\"/zhuangkai/openo1/dataset/prm800k/processsed/rm/phase2_test_gt_pre_generated_solution.jsonl\", 'w', encoding='utf-8') as f:\n",
    "    for problem, line in test_results:\n",
    "        f.write(json.dumps({\"problem\": problem, \"steps\": line[\"steps\"]}) + \"\\n\")\n",
    "\n",
    "with open(\"/zhuangkai/openo1/dataset/prm800k/processsed/rm/phase2_validation_gt_pre_generated_solution.jsonl\", 'w', encoding='utf-8') as f:\n",
    "    for problem, line in validation_results:\n",
    "        f.write(json.dumps({\"problem\": problem, \"steps\": line[\"steps\"]}) + \"\\n\")\n"
   ]
  },
  {
   "cell_type": "code",
   "execution_count": 1,
   "metadata": {},
   "outputs": [
    {
     "name": "stderr",
     "output_type": "stream",
     "text": [
      "108573it [00:01, 82251.31it/s] \n"
     ]
    },
    {
     "name": "stdout",
     "output_type": "stream",
     "text": [
      "train has 709250 steps\n"
     ]
    },
    {
     "name": "stderr",
     "output_type": "stream",
     "text": [
      "1608it [00:00, 23965.49it/s]"
     ]
    },
    {
     "name": "stdout",
     "output_type": "stream",
     "text": [
      "test has 10361 steps\n"
     ]
    },
    {
     "name": "stderr",
     "output_type": "stream",
     "text": [
      "\n"
     ]
    }
   ],
   "source": [
    "#统计有多少step\n",
    "import json\n",
    "from tqdm import tqdm\n",
    "\n",
    "path = \"/zhuangkai/openo1/dataset/prm800k/processsed/rm/phase2_{stage}_gt_pre_generated_solution.jsonl\"\n",
    "for stage in ['train', 'test']:\n",
    "    count = 0\n",
    "    with open(path.format(stage=stage), 'r', encoding='utf-8') as f:\n",
    "        for line in tqdm(f):        \n",
    "            line = json.loads(line)\n",
    "            count += len(line[\"steps\"])\n",
    "    print(f\"{stage} has {count} steps\")"
   ]
  }
 ],
 "metadata": {
  "kernelspec": {
   "display_name": "openo1",
   "language": "python",
   "name": "python3"
  },
  "language_info": {
   "codemirror_mode": {
    "name": "ipython",
    "version": 3
   },
   "file_extension": ".py",
   "mimetype": "text/x-python",
   "name": "python",
   "nbconvert_exporter": "python",
   "pygments_lexer": "ipython3",
   "version": "3.9.20"
  }
 },
 "nbformat": 4,
 "nbformat_minor": 2
}
